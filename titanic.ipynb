{
  "nbformat": 4,
  "nbformat_minor": 0,
  "metadata": {
    "colab": {
      "private_outputs": true,
      "provenance": [],
      "authorship_tag": "ABX9TyOOg9Dh1TYPDzAK4U8yEdTZ",
      "include_colab_link": true
    },
    "kernelspec": {
      "name": "python3",
      "display_name": "Python 3"
    },
    "language_info": {
      "name": "python"
    }
  },
  "cells": [
    {
      "cell_type": "markdown",
      "metadata": {
        "id": "view-in-github",
        "colab_type": "text"
      },
      "source": [
        "<a href=\"https://colab.research.google.com/github/HandeSayar/odevler/blob/main/titanic.ipynb\" target=\"_parent\"><img src=\"https://colab.research.google.com/assets/colab-badge.svg\" alt=\"Open In Colab\"/></a>"
      ]
    },
    {
      "cell_type": "code",
      "execution_count": null,
      "metadata": {
        "id": "SnlrcNaZ1SlZ"
      },
      "outputs": [],
      "source": [
        "#import library\n",
        "import pandas as pd"
      ]
    },
    {
      "cell_type": "code",
      "source": [
        "#read file\n",
        "df = pd.read_csv(\"/content/Titanic_dataset.csv\")"
      ],
      "metadata": {
        "id": "EXKF9Bw26rd8"
      },
      "execution_count": null,
      "outputs": []
    },
    {
      "cell_type": "code",
      "source": [
        "#check descriptive statistics of the dataset\n",
        "df.describe().T"
      ],
      "metadata": {
        "id": "OY7UQrLZ7adk"
      },
      "execution_count": null,
      "outputs": []
    },
    {
      "cell_type": "code",
      "source": [
        "#average age of the passengers died\n",
        "df[df.Survived == 0][\"Age\"].mean()"
      ],
      "metadata": {
        "id": "8WFqtDqw-Hg7"
      },
      "execution_count": null,
      "outputs": []
    },
    {
      "cell_type": "code",
      "source": [
        "#average and median ticket prices of the passengers died\n",
        "mean_fare_died = df[df.Survived == 0][\"Fare\"].mean()\n",
        "median_fare_died = df[df.Survived == 0][\"Fare\"].median()\n",
        "mean_fare_died, median_fare_died"
      ],
      "metadata": {
        "id": "ASmo8s2fCily"
      },
      "execution_count": null,
      "outputs": []
    },
    {
      "cell_type": "code",
      "source": [
        "#average age of the male passengers died\n",
        "df[(df.Survived == 0) & (df.Sex == \"male\")][\"Age\"].mean()"
      ],
      "metadata": {
        "id": "Zd7jvkAyDeoJ"
      },
      "execution_count": null,
      "outputs": []
    },
    {
      "cell_type": "code",
      "source": [
        "#average age of the male passengers died\n",
        "df[(df.Survived == 0) & (df.Sex == \"female\")][\"Age\"].mean()"
      ],
      "metadata": {
        "id": "3fsVeRfMESVf"
      },
      "execution_count": null,
      "outputs": []
    },
    {
      "cell_type": "code",
      "source": [
        "#average age of the passengers survived\n",
        "df[df.Survived == 1][\"Age\"].mean()"
      ],
      "metadata": {
        "id": "ZTmnHZ5oEpdM"
      },
      "execution_count": null,
      "outputs": []
    },
    {
      "cell_type": "code",
      "source": [
        "#average ticket price of the passengers survived\n",
        "df[df.Survived == 1][\"Fare\"].mean()"
      ],
      "metadata": {
        "id": "HIz0PcElE0_8"
      },
      "execution_count": null,
      "outputs": []
    },
    {
      "cell_type": "code",
      "source": [
        "#total number of passengers survived\n",
        "len(df[df.Survived == 1])"
      ],
      "metadata": {
        "id": "Wz2umEY0FHl4"
      },
      "execution_count": null,
      "outputs": []
    },
    {
      "cell_type": "code",
      "source": [
        "#median ticket price of passengers under age of 10\n",
        "df[df.Age < 10][\"Fare\"].median()"
      ],
      "metadata": {
        "id": "I0kpuvaFFN24"
      },
      "execution_count": null,
      "outputs": []
    },
    {
      "cell_type": "code",
      "source": [
        "#comparison of average and median ticket prices of passengers in 1st 2nd and 3rd class\n",
        "df.groupby(\"Pclass\")[\"Fare\"].agg([\"mean\", \"median\"])"
      ],
      "metadata": {
        "id": "1dTnrv2GFjc5"
      },
      "execution_count": null,
      "outputs": []
    },
    {
      "cell_type": "code",
      "source": [
        "#comparison of death rate of females to males\n",
        "dead_female = len(df[(df.Sex == \"female\") & (df.Survived == 0)]) / len(df[df.Sex == \"female\"])\n",
        "dead_male = len(df[(df.Sex == \"male\") & (df.Survived == 0)]) / len(df[df.Sex == \"male\"])\n",
        "dead_female, dead_male"
      ],
      "metadata": {
        "id": "nUxnlbOhGS6x"
      },
      "execution_count": null,
      "outputs": []
    },
    {
      "cell_type": "code",
      "source": [],
      "metadata": {
        "id": "quejzDsAHezt"
      },
      "execution_count": null,
      "outputs": []
    }
  ]
}