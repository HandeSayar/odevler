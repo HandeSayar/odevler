{
  "nbformat": 4,
  "nbformat_minor": 0,
  "metadata": {
    "colab": {
      "private_outputs": true,
      "provenance": [],
      "authorship_tag": "ABX9TyMbLTqbSGWj+pdQ5cjAQSou",
      "include_colab_link": true
    },
    "kernelspec": {
      "name": "python3",
      "display_name": "Python 3"
    },
    "language_info": {
      "name": "python"
    }
  },
  "cells": [
    {
      "cell_type": "markdown",
      "metadata": {
        "id": "view-in-github",
        "colab_type": "text"
      },
      "source": [
        "<a href=\"https://colab.research.google.com/github/HandeSayar/odevler/blob/main/%C3%96dev_2.ipynb\" target=\"_parent\"><img src=\"https://colab.research.google.com/assets/colab-badge.svg\" alt=\"Open In Colab\"/></a>"
      ]
    },
    {
      "cell_type": "code",
      "source": [
        "sayi = int(input(\"Sayı: \"))\n",
        "\n",
        "if sayi > 0:\n",
        "    print(\"Pozitif\")\n",
        "elif sayi < 0:\n",
        "    print(\"Negatif\")\n",
        "else:\n",
        "    print(\"Sıfır\")"
      ],
      "metadata": {
        "id": "qvMpSFi6_GtX"
      },
      "execution_count": null,
      "outputs": []
    },
    {
      "cell_type": "code",
      "source": [
        "sayi = int(input(\"Sayı: \"))\n",
        "if sayi % 2 == 0:\n",
        "  print(\"Çift\")\n",
        "else :\n",
        "  print(\"Tek\")"
      ],
      "metadata": {
        "id": "fUrXeSbw_OQI"
      },
      "execution_count": null,
      "outputs": []
    },
    {
      "cell_type": "code",
      "source": [
        "notu = int(input(\"Not: \"))\n",
        "\n",
        "if notu >= 90:\n",
        "    print(\"AA\")\n",
        "elif notu >= 80:\n",
        "    print(\"BA\")\n",
        "elif notu >= 70:\n",
        "    print(\"BB\")\n",
        "elif notu >= 60:\n",
        "    print(\"CB\")\n",
        "elif notu >= 50:\n",
        "    print(\"CC\")\n",
        "else:\n",
        "    print(\"FF\")"
      ],
      "metadata": {
        "id": "sx_zHvfR_n50"
      },
      "execution_count": null,
      "outputs": []
    },
    {
      "cell_type": "code",
      "source": [
        "isim = input(\"isim: \")\n",
        "if len(isim) > 5:\n",
        "  print(\"Uzun bir isminiz var.\")\n",
        "else:\n",
        "  print(isim)"
      ],
      "metadata": {
        "id": "Xyo3Nf-8_9sd"
      },
      "execution_count": null,
      "outputs": []
    },
    {
      "cell_type": "code",
      "source": [
        "sayi = int(input(\"Sayı: \"))\n",
        "asal = True\n",
        "\n",
        "if sayi < 2:\n",
        "    asal = False\n",
        "else:\n",
        "    for i in range(2, sayi):\n",
        "        if sayi % i == 0:\n",
        "            asal = False\n",
        "            break\n",
        "\n",
        "print(\"Asal\" if asal else \"Asal değil\")\n"
      ],
      "metadata": {
        "id": "MxbfNUe09iEW"
      },
      "execution_count": null,
      "outputs": []
    },
    {
      "cell_type": "code",
      "source": [
        "sayi = int(input(\"Sayı: \"))\n",
        "asal = True\n",
        "i = 2\n",
        "\n",
        "if sayi < 2:\n",
        "    asal = False\n",
        "else:\n",
        "    while i < sayi:\n",
        "        if sayi % i == 0:\n",
        "            asal = False\n",
        "            break\n",
        "        i += 1\n",
        "\n",
        "print(\"Asal\" if asal else \"Asal değil\")\n"
      ],
      "metadata": {
        "id": "eiUqvriE9vfz"
      },
      "execution_count": null,
      "outputs": []
    },
    {
      "cell_type": "code",
      "source": [
        "notlar = [45, 85, 75, 50]\n",
        "\n",
        "print(notlar.index(75))"
      ],
      "metadata": {
        "id": "yPNR_VAwA93C"
      },
      "execution_count": null,
      "outputs": []
    },
    {
      "cell_type": "code",
      "source": [
        "sayi = int(input(\"Sayı: \"))\n",
        "faktöriyel = 1\n",
        "\n",
        "for i in range (1, sayi+1):\n",
        "  faktöriyel *= i\n",
        "print(\"Faktöriyel:\", faktöriyel)"
      ],
      "metadata": {
        "id": "cflCrsC7BTR3"
      },
      "execution_count": null,
      "outputs": []
    },
    {
      "cell_type": "code",
      "source": [
        "sayi = int(input(\"Sayı: \"))\n",
        "faktöriyel = 1\n",
        "i = 1\n",
        "while i<= sayi:\n",
        "  faktöriyel *= i\n",
        "  i += 1\n",
        "print(\"Faktöriyel:\", faktöriyel)"
      ],
      "metadata": {
        "id": "P1qOwGVRByHj"
      },
      "execution_count": null,
      "outputs": []
    },
    {
      "cell_type": "code",
      "source": [
        "for sayi in range (1000000):\n",
        "  sayi = int(input(\"Sayı: \"))\n",
        "  if sayi > 0:\n",
        "    print(sayi)\n",
        "    break\n",
        "  else:\n",
        "    print(\"Tekrar dene \")"
      ],
      "metadata": {
        "id": "0hNB0snHB5MK"
      },
      "execution_count": null,
      "outputs": []
    },
    {
      "cell_type": "code",
      "source": [
        "def asalmıdır(sayi):\n",
        "  if sayi < 2:\n",
        "    return False\n",
        "  for i in range(2, sayi):\n",
        "    if sayi % i == 0:\n",
        "      return False\n",
        "  return True\n",
        "\n",
        "s = int(input(\"Sayı: \"))\n",
        "if asalmıdır(s):\n",
        "  print(\"Asal\")\n",
        "else:\n",
        "  print(\"Asal değil\")"
      ],
      "metadata": {
        "id": "w1OjmytRCAGh"
      },
      "execution_count": null,
      "outputs": []
    },
    {
      "cell_type": "code",
      "source": [
        "def asalmıdır(sayi):\n",
        "  if sayi < 2:\n",
        "    return False\n",
        "  i = 2\n",
        "  while i < sayi:\n",
        "    if sayi % i == 0:\n",
        "      return False\n",
        "    i += 1\n",
        "  return True\n",
        "\n",
        "s= int(input(\"Sayı: \"))\n",
        "if asalmıdır(s):\n",
        "  print(\"Asal\")\n",
        "else:\n",
        "  print(\"Asal değil\")"
      ],
      "metadata": {
        "id": "poOeVqNcDLxz"
      },
      "execution_count": null,
      "outputs": []
    },
    {
      "cell_type": "code",
      "source": [
        "def faktoriyel(sayi):\n",
        "  sonuc = 1\n",
        "  for i in range(1, sayi+1):\n",
        "    sonuc *= i\n",
        "  return sonuc\n",
        "\n",
        "s = int(input(\"Sayı: \"))\n",
        "print(\"Faktöriyel:\",faktoriyel(s))"
      ],
      "metadata": {
        "id": "mi6pNphXDv0R"
      },
      "execution_count": null,
      "outputs": []
    },
    {
      "cell_type": "code",
      "source": [
        "def faktoriyel(sayi):\n",
        "  sonuc = 1\n",
        "  i = 1\n",
        "  while i <= sayi:\n",
        "    sonuc *= i\n",
        "    i += 1\n",
        "  return sonuc\n",
        "\n",
        "s = int(input(\"Sayı: \"))\n",
        "print(\"Faktöriyel:\", faktoriyel(s))"
      ],
      "metadata": {
        "id": "8XJ9TZKTEVh0"
      },
      "execution_count": null,
      "outputs": []
    },
    {
      "cell_type": "code",
      "source": [],
      "metadata": {
        "id": "pkTol1woEzjt"
      },
      "execution_count": null,
      "outputs": []
    }
  ]
}