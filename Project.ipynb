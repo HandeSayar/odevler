{
  "nbformat": 4,
  "nbformat_minor": 0,
  "metadata": {
    "colab": {
      "private_outputs": true,
      "provenance": [],
      "authorship_tag": "ABX9TyMRIqzKzQeXFI6riDruDBB4",
      "include_colab_link": true
    },
    "kernelspec": {
      "name": "python3",
      "display_name": "Python 3"
    },
    "language_info": {
      "name": "python"
    }
  },
  "cells": [
    {
      "cell_type": "markdown",
      "metadata": {
        "id": "view-in-github",
        "colab_type": "text"
      },
      "source": [
        "<a href=\"https://colab.research.google.com/github/HandeSayar/odevler/blob/main/Project.ipynb\" target=\"_parent\"><img src=\"https://colab.research.google.com/assets/colab-badge.svg\" alt=\"Open In Colab\"/></a>"
      ]
    },
    {
      "cell_type": "code",
      "execution_count": null,
      "metadata": {
        "id": "ZAlcEvMCqzBb"
      },
      "outputs": [],
      "source": [
        "# import libraries\n",
        "import pandas as pd\n",
        "import seaborn as sns\n",
        "import matplotlib.pyplot as plt"
      ]
    },
    {
      "cell_type": "code",
      "source": [
        "# load dataset\n",
        "df = pd.read_csv(\"/content/customer_experience_data (1).csv\")"
      ],
      "metadata": {
        "id": "3x61LgPGq6xB"
      },
      "execution_count": null,
      "outputs": []
    },
    {
      "cell_type": "code",
      "source": [
        "# dataset info\n",
        "df.info()"
      ],
      "metadata": {
        "id": "bqr9dSPrrKdr"
      },
      "execution_count": null,
      "outputs": []
    },
    {
      "cell_type": "code",
      "source": [
        "# preview rows\n",
        "df.head()"
      ],
      "metadata": {
        "id": "0aHL4fOXrOvs"
      },
      "execution_count": null,
      "outputs": []
    },
    {
      "cell_type": "code",
      "source": [
        "# summary stats\n",
        "df.describe()"
      ],
      "metadata": {
        "id": "Y3LEt9Q9rVBo"
      },
      "execution_count": null,
      "outputs": []
    },
    {
      "cell_type": "code",
      "source": [
        "# check missing value\n",
        "df.isnull().sum()"
      ],
      "metadata": {
        "id": "ySt_gX2yrX4j"
      },
      "execution_count": null,
      "outputs": []
    },
    {
      "cell_type": "code",
      "source": [
        "# detect outliers IQR method\n",
        "numeric_cols=['Age','Num_Interactions','Feedback_Score','Products_Purchased','Products_Viewed','Time_Spent_on_Site','Satisfaction_Score']\n",
        "for col in numeric_cols:\n",
        "  Q1 = df[col].quantile(0.25)\n",
        "  Q3 = df[col].quantile(0.75)\n",
        "  IQR = Q3-Q1\n",
        "  lower = Q1-1.5*IQR\n",
        "  upper = Q3+1.5*IQR\n",
        "  outliers = df[(df[col]< lower) | (df[col] > upper)]\n",
        "  print(f\"{col}:{len(outliers)} outliers detected\")"
      ],
      "metadata": {
        "id": "qSyeEu3-rhOo"
      },
      "execution_count": null,
      "outputs": []
    },
    {
      "cell_type": "code",
      "source": [
        "# histograms\n",
        "for col in numeric_cols:\n",
        "  plt.figure(figsize=(5,3))\n",
        "  sns.histplot(df[col],kde=True,bins=20,color='lightblue')\n",
        "  plt.title(f\"Distribution-{col}\")\n",
        "  plt.xlabel(col)\n",
        "  plt.ylabel(\"Frequency\")\n",
        "  plt.tight_layout()\n",
        "  plt.show()"
      ],
      "metadata": {
        "id": "ZGxnCJn_oNZQ"
      },
      "execution_count": null,
      "outputs": []
    },
    {
      "cell_type": "code",
      "source": [
        "# countplots\n",
        "categorical_cols = ['Gender','Location','Retention_Status']\n",
        "for col in categorical_cols:\n",
        "  plt.figure(figsize=(5,3))\n",
        "  sns.countplot(data=df,x=col,palette=\"pastel\")\n",
        "  plt.title(f\"Count Plot-{col}\")\n",
        "  plt.xlabel(col)\n",
        "  plt.ylabel(\"Count\")\n",
        "  plt.tight_layout()\n",
        "  plt.show()\n"
      ],
      "metadata": {
        "id": "F0IINfOzqhB4"
      },
      "execution_count": null,
      "outputs": []
    },
    {
      "cell_type": "code",
      "source": [],
      "metadata": {
        "id": "rx8fgK0Zr8tt"
      },
      "execution_count": null,
      "outputs": []
    }
  ]
}